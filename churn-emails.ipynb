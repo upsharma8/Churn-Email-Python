{
 "cells": [
  {
   "cell_type": "code",
   "execution_count": 68,
   "metadata": {},
   "outputs": [
    {
     "data": {
      "text/plain": [
       "1910"
      ]
     },
     "execution_count": 68,
     "metadata": {},
     "output_type": "execute_result"
    }
   ],
   "source": [
    "# To find the Number of Lines \n",
    "\n",
    "def number_of_lines():\n",
    "    fhand = open('mbox-short.txt')\n",
    "    inp=fhand.read()\n",
    "    fhand.close()\n",
    "    count=0\n",
    "    for c in inp:\n",
    "        if c=='\\n':\n",
    "            count=count+1\n",
    "    return count\n",
    "number_of_lines()"
   ]
  },
  {
   "cell_type": "code",
   "execution_count": 69,
   "metadata": {},
   "outputs": [
    {
     "data": {
      "text/plain": [
       "1910"
      ]
     },
     "execution_count": 69,
     "metadata": {},
     "output_type": "execute_result"
    }
   ],
   "source": [
    "def number_of_lines():\n",
    "    fhand = open('mbox-short.txt')\n",
    "    \n",
    "    \n",
    "    return(len(fhand.readlines()))\n",
    "number_of_lines()"
   ]
  },
  {
   "cell_type": "code",
   "execution_count": 70,
   "metadata": {},
   "outputs": [
    {
     "name": "stdout",
     "output_type": "stream",
     "text": [
      "From stephen.marquard@uct.ac.za Sat Jan  5 09:14:16 2008\n",
      "From: stephen.marquard@uct.ac.za\n",
      "From louis@media.berkeley.edu Fri Jan  4 18:10:48 2008\n",
      "From: louis@media.berkeley.edu\n",
      "From zqian@umich.edu Fri Jan  4 16:10:39 2008\n",
      "From: zqian@umich.edu\n",
      "From rjlowe@iupui.edu Fri Jan  4 15:46:24 2008\n",
      "From: rjlowe@iupui.edu\n",
      "From zqian@umich.edu Fri Jan  4 15:03:18 2008\n",
      "From: zqian@umich.edu\n",
      "From rjlowe@iupui.edu Fri Jan  4 14:50:18 2008\n",
      "From: rjlowe@iupui.edu\n",
      "From cwen@iupui.edu Fri Jan  4 11:37:30 2008\n",
      "From: cwen@iupui.edu\n",
      "From cwen@iupui.edu Fri Jan  4 11:35:08 2008\n",
      "From: cwen@iupui.edu\n",
      "From gsilver@umich.edu Fri Jan  4 11:12:37 2008\n",
      "From: gsilver@umich.edu\n",
      "From gsilver@umich.edu Fri Jan  4 11:11:52 2008\n",
      "From: gsilver@umich.edu\n",
      "From zqian@umich.edu Fri Jan  4 11:11:03 2008\n",
      "From: zqian@umich.edu\n",
      "From gsilver@umich.edu Fri Jan  4 11:10:22 2008\n",
      "From: gsilver@umich.edu\n",
      "From wagnermr@iupui.edu Fri Jan  4 10:38:42 2008\n",
      "From: wagnermr@iupui.edu\n",
      "From zqian@umich.edu Fri Jan  4 10:17:43 2008\n",
      "From: zqian@umich.edu\n",
      "From antranig@caret.cam.ac.uk Fri Jan  4 10:04:14 2008\n",
      "From: antranig@caret.cam.ac.uk\n",
      "From gopal.ramasammycook@gmail.com Fri Jan  4 09:05:31 2008\n",
      "From: gopal.ramasammycook@gmail.com\n",
      "From david.horwitz@uct.ac.za Fri Jan  4 07:02:32 2008\n",
      "From: david.horwitz@uct.ac.za\n",
      "From david.horwitz@uct.ac.za Fri Jan  4 06:08:27 2008\n",
      "From: david.horwitz@uct.ac.za\n",
      "From david.horwitz@uct.ac.za Fri Jan  4 04:49:08 2008\n",
      "From: david.horwitz@uct.ac.za\n",
      "From david.horwitz@uct.ac.za Fri Jan  4 04:33:44 2008\n",
      "From: david.horwitz@uct.ac.za\n",
      "From stephen.marquard@uct.ac.za Fri Jan  4 04:07:34 2008\n",
      "From: stephen.marquard@uct.ac.za\n",
      "From louis@media.berkeley.edu Thu Jan  3 19:51:21 2008\n",
      "From: louis@media.berkeley.edu\n",
      "From louis@media.berkeley.edu Thu Jan  3 17:18:23 2008\n",
      "From: louis@media.berkeley.edu\n",
      "From ray@media.berkeley.edu Thu Jan  3 17:07:00 2008\n",
      "From: ray@media.berkeley.edu\n",
      "From cwen@iupui.edu Thu Jan  3 16:34:40 2008\n",
      "From: cwen@iupui.edu\n",
      "From cwen@iupui.edu Thu Jan  3 16:29:07 2008\n",
      "From: cwen@iupui.edu\n",
      "From cwen@iupui.edu Thu Jan  3 16:23:48 2008\n",
      "From: cwen@iupui.edu\n"
     ]
    }
   ],
   "source": [
    "# To print the lines starting with 'From'\n",
    "fhand = open('mbox-short.txt')\n",
    "for line in fhand:\n",
    "    line=line.rstrip()\n",
    "    if line.startswith('From'):\n",
    "        print(line)"
   ]
  },
  {
   "cell_type": "code",
   "execution_count": 71,
   "metadata": {},
   "outputs": [
    {
     "data": {
      "text/plain": [
       "27"
      ]
     },
     "execution_count": 71,
     "metadata": {},
     "output_type": "execute_result"
    }
   ],
   "source": [
    "# To count the no of lines starting with 'Subject'\n",
    "def count_number_of_lines():\n",
    "    fhand= open('mbox-short.txt')\n",
    "    c=0\n",
    "    for line in fhand:\n",
    "        line=line.rstrip()\n",
    "        if line.startswith('Subject:'):\n",
    "            c=c+1\n",
    "    fhand.close()\n",
    "    return c\n",
    "\n",
    "count_number_of_lines()\n"
   ]
  },
  {
   "cell_type": "code",
   "execution_count": 72,
   "metadata": {},
   "outputs": [
    {
     "data": {
      "text/plain": [
       "0.7507185185185187"
      ]
     },
     "execution_count": 72,
     "metadata": {},
     "output_type": "execute_result"
    }
   ],
   "source": [
    "# To find aveage of spam confidence\n",
    "def average_spam_confidence():\n",
    "    fhand= open('mbox-short.txt')\n",
    "    c=0\n",
    "    p=0.0000\n",
    "    for f in fhand:\n",
    "        f=f.rstrip()\n",
    "        if f.startswith('X-DSPAM-Confidence:'):\n",
    "            f=f.split(':')\n",
    "            \n",
    "            p=p+float(f[1])\n",
    "            c=c+1\n",
    "    return p/c\n",
    "\n",
    "average_spam_confidence()"
   ]
  },
  {
   "cell_type": "code",
   "execution_count": 73,
   "metadata": {},
   "outputs": [
    {
     "data": {
      "text/plain": [
       "{'Sat': 1, 'Fri': 20, 'Thu': 6}"
      ]
     },
     "execution_count": 73,
     "metadata": {},
     "output_type": "execute_result"
    }
   ],
   "source": [
    "#To find Which Day of the Week the Email was sent\n",
    "\n",
    "def find_email_sent_days():\n",
    "    fhand= open('mbox-short.txt')\n",
    "    a={}\n",
    "    for f in fhand:\n",
    "        f=f.rstrip()\n",
    "        if f.startswith('From'):\n",
    "            f=f.split(\" \")\n",
    "            if len(f)>2:\n",
    "                \n",
    "                a[f[2]]=a.get(f[2],0)+1\n",
    "        \n",
    "    return a\n",
    "\n",
    "find_email_sent_days()\n",
    "    "
   ]
  },
  {
   "cell_type": "code",
   "execution_count": 74,
   "metadata": {},
   "outputs": [
    {
     "data": {
      "text/plain": [
       "{'stephen.marquard@uct.ac.za': 2,\n",
       " 'louis@media.berkeley.edu': 3,\n",
       " 'zqian@umich.edu': 4,\n",
       " 'rjlowe@iupui.edu': 2,\n",
       " 'cwen@iupui.edu': 5,\n",
       " 'gsilver@umich.edu': 3,\n",
       " 'wagnermr@iupui.edu': 1,\n",
       " 'antranig@caret.cam.ac.uk': 1,\n",
       " 'gopal.ramasammycook@gmail.com': 1,\n",
       " 'david.horwitz@uct.ac.za': 4,\n",
       " 'ray@media.berkeley.edu': 1}"
      ]
     },
     "execution_count": 74,
     "metadata": {},
     "output_type": "execute_result"
    }
   ],
   "source": [
    "# TO count number of messages from each Email Address\n",
    "def count_message_from_email():\n",
    "    fhand=open('mbox-short.txt')\n",
    "    a={}\n",
    "    for f in fhand:\n",
    "        f=f.strip()\n",
    "        if f.startswith('From:'):\n",
    "            f=f.split(\" \")\n",
    "            a[f[1]]=a.get(f[1],0)+1\n",
    "    return a\n",
    "count_message_from_email()"
   ]
  },
  {
   "cell_type": "code",
   "execution_count": 75,
   "metadata": {},
   "outputs": [
    {
     "data": {
      "text/plain": [
       "{'uct.ac.za': 6,\n",
       " 'media.berkeley.edu': 4,\n",
       " 'umich.edu': 7,\n",
       " 'iupui.edu': 8,\n",
       " 'caret.cam.ac.uk': 1,\n",
       " 'gmail.com': 1}"
      ]
     },
     "execution_count": 75,
     "metadata": {},
     "output_type": "execute_result"
    }
   ],
   "source": [
    "#To Count Number of Messages From Each Domain\n",
    "def count_message_from_domain():\n",
    "    fhand=open('mbox-short.txt')\n",
    "    a={}\n",
    "    for f in fhand:\n",
    "        f=f.rstrip()\n",
    "        if f.startswith('From:'):\n",
    "            f=f.split(\"@\")\n",
    "            a[f[1]]=a.get(f[1],0)+1\n",
    "    return a\n",
    "count_message_from_domain()\n",
    "    "
   ]
  }
 ],
 "metadata": {
  "kernelspec": {
   "display_name": "Python 3",
   "language": "python",
   "name": "python3"
  },
  "language_info": {
   "codemirror_mode": {
    "name": "ipython",
    "version": 3
   },
   "file_extension": ".py",
   "mimetype": "text/x-python",
   "name": "python",
   "nbconvert_exporter": "python",
   "pygments_lexer": "ipython3",
   "version": "3.7.6"
  }
 },
 "nbformat": 4,
 "nbformat_minor": 4
}
